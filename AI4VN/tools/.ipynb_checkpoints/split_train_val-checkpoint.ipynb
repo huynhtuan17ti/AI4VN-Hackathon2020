{
 "cells": [
  {
   "cell_type": "code",
   "execution_count": 1,
   "metadata": {},
   "outputs": [],
   "source": [
    "import os\n",
    "import pandas as pd\n",
    "import numpy as np\n",
    "from sklearn.model_selection import KFold"
   ]
  },
  {
   "cell_type": "code",
   "execution_count": 2,
   "metadata": {},
   "outputs": [],
   "source": [
    "NUM_CLASSES = 8\n",
    "N_FOLD = 5\n",
    "ROOT_PATH = '/home/ryan/Machine_Learning/AI4VN'\n",
    "SAVE_PATH = '/home/ryan/Machine_Learning/AI4VN/fold'\n",
    "kf = KFold(n_splits=N_FOLD, shuffle=True)"
   ]
  },
  {
   "cell_type": "code",
   "execution_count": 3,
   "metadata": {},
   "outputs": [],
   "source": [
    "train_df = pd.read_csv(ROOT_PATH + '/' + \"train.csv\")"
   ]
  },
  {
   "cell_type": "code",
   "execution_count": 4,
   "metadata": {},
   "outputs": [],
   "source": [
    "class_dict = {}\n",
    "for Class in range(NUM_CLASSES):\n",
    "    class_dict[\"Class_{}\".format(Class)] = []"
   ]
  },
  {
   "cell_type": "code",
   "execution_count": 5,
   "metadata": {},
   "outputs": [
    {
     "name": "stdout",
     "output_type": "stream",
     "text": [
      "Number image of class 0 : 6094\n",
      "Number image of class 1 : 3265\n",
      "Number image of class 2 : 4064\n",
      "Number image of class 3 : 3743\n",
      "Number image of class 4 : 3035\n",
      "Number image of class 5 : 4375\n",
      "Number image of class 6 : 3264\n",
      "Number image of class 7 : 4250\n"
     ]
    }
   ],
   "source": [
    "for i in range(len(train_df)):\n",
    "    name_img = train_df['image_id'][i]\n",
    "    label = train_df['label'][i]\n",
    "    class_dict[\"Class_{}\".format(label)].append(name_img)\n",
    "\n",
    "for Class in range(NUM_CLASSES):\n",
    "    print(\"Number image of class {} : {}\".format(Class, len(class_dict[\"Class_{}\".format(Class)])))"
   ]
  },
  {
   "cell_type": "code",
   "execution_count": 6,
   "metadata": {},
   "outputs": [],
   "source": [
    "train_folds = {}\n",
    "train_label_folds = {}\n",
    "valid_folds = {}\n",
    "valid_label_folds = {}\n",
    "for i in range(N_FOLD):\n",
    "    train_folds[\"Fold_{}\".format(i)] = []\n",
    "    train_label_folds[\"Fold_{}\".format(i)] = []\n",
    "    valid_folds[\"Fold_{}\".format(i)] = []\n",
    "    valid_label_folds[\"Fold_{}\".format(i)] = []\n",
    "\n",
    "for Class in range(NUM_CLASSES):\n",
    "    cnt_fold = 0\n",
    "    for train_index, valid_index in kf.split(class_dict[\"Class_{}\".format(Class)]):\n",
    "        #print(len(train_index), len(valid_index))\n",
    "        for index in train_index:\n",
    "            train_folds[\"Fold_{}\".format(cnt_fold)].append(class_dict[\"Class_{}\".format(Class)][index])\n",
    "            train_label_folds[\"Fold_{}\".format(cnt_fold)].append(Class)\n",
    "        for index in valid_index:\n",
    "            valid_folds[\"Fold_{}\".format(cnt_fold)].append(class_dict[\"Class_{}\".format(Class)][index])\n",
    "            valid_label_folds[\"Fold_{}\".format(cnt_fold)].append(Class)\n",
    "        cnt_fold += 1"
   ]
  },
  {
   "cell_type": "code",
   "execution_count": 7,
   "metadata": {},
   "outputs": [
    {
     "name": "stdout",
     "output_type": "stream",
     "text": [
      "Length fold 0 (train set) = 25671\n",
      "Length fold 0 (label train set) = 25671\n",
      "Length fold 0 (valid set) = 6419\n",
      "Length fold 0 (label valid set) = 6419\n",
      "Length fold 1 (train set) = 25671\n",
      "Length fold 1 (label train set) = 25671\n",
      "Length fold 1 (valid set) = 6419\n",
      "Length fold 1 (label valid set) = 6419\n",
      "Length fold 2 (train set) = 25671\n",
      "Length fold 2 (label train set) = 25671\n",
      "Length fold 2 (valid set) = 6419\n",
      "Length fold 2 (label valid set) = 6419\n",
      "Length fold 3 (train set) = 25672\n",
      "Length fold 3 (label train set) = 25672\n",
      "Length fold 3 (valid set) = 6418\n",
      "Length fold 3 (label valid set) = 6418\n",
      "Length fold 4 (train set) = 25675\n",
      "Length fold 4 (label train set) = 25675\n",
      "Length fold 4 (valid set) = 6415\n",
      "Length fold 4 (label valid set) = 6415\n"
     ]
    }
   ],
   "source": [
    "for fold in range(N_FOLD):\n",
    "    print(\"Length fold {} (train set) = {}\".format(fold, len(train_folds[\"Fold_{}\".format(fold)])))\n",
    "    print(\"Length fold {} (label train set) = {}\".format(fold, len(train_label_folds[\"Fold_{}\".format(fold)])))\n",
    "    print(\"Length fold {} (valid set) = {}\".format(fold, len(valid_folds[\"Fold_{}\".format(fold)])))\n",
    "    print(\"Length fold {} (label valid set) = {}\".format(fold, len(valid_label_folds[\"Fold_{}\".format(fold)])))"
   ]
  },
  {
   "cell_type": "code",
   "execution_count": 8,
   "metadata": {},
   "outputs": [],
   "source": [
    "for fold in range(N_FOLD):\n",
    "    fold_name = \"Fold_\" + str(fold)\n",
    "    train_dict_df = {'image_id': train_folds[fold_name], 'label':train_label_folds[fold_name]}\n",
    "    df = pd.DataFrame(train_dict_df)\n",
    "    df.to_csv(SAVE_PATH + '/' + \"train_fold_{}.csv\".format(fold), index = False)\n",
    "    \n",
    "    valid_dict_df = {'image_id': valid_folds[fold_name], 'label':valid_label_folds[fold_name]}\n",
    "    df = pd.DataFrame(valid_dict_df)\n",
    "    df.to_csv(SAVE_PATH + '/' + \"valid_fold_{}.csv\".format(fold), index = False)"
   ]
  },
  {
   "cell_type": "code",
   "execution_count": null,
   "metadata": {},
   "outputs": [],
   "source": []
  }
 ],
 "metadata": {
  "kernelspec": {
   "display_name": "Python 3",
   "language": "python",
   "name": "python3"
  },
  "language_info": {
   "codemirror_mode": {
    "name": "ipython",
    "version": 3
   },
   "file_extension": ".py",
   "mimetype": "text/x-python",
   "name": "python",
   "nbconvert_exporter": "python",
   "pygments_lexer": "ipython3",
   "version": "3.7.9"
  }
 },
 "nbformat": 4,
 "nbformat_minor": 4
}
