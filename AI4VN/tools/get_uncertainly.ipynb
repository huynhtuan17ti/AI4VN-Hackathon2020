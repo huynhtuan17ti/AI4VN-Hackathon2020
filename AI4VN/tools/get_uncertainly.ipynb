{
 "cells": [
  {
   "cell_type": "code",
   "execution_count": 1,
   "metadata": {},
   "outputs": [],
   "source": [
    "import cv2\n",
    "import matplotlib.pyplot as plt\n",
    "import os\n",
    "import imutils \n",
    "import skimage\n",
    "import skimage.transform\n",
    "import pandas as pd\n",
    "import numpy as np"
   ]
  },
  {
   "cell_type": "code",
   "execution_count": 2,
   "metadata": {},
   "outputs": [],
   "source": [
    "IMAGE_PATH = \"/home/ryan/Machine_Learning/AI4VN/Images\"\n",
    "ROOT_PATH = \"/home/ryan/Machine_Learning/AI4VN\"\n",
    "SAVE_PATH = \"/home/ryan/Machine_Learning/AI4VN/train\"\n",
    "IMG_SIZE = 800\n",
    "NUM_CLASSES = 8"
   ]
  },
  {
   "cell_type": "code",
   "execution_count": 19,
   "metadata": {},
   "outputs": [],
   "source": [
    "df = pd.read_csv(os.path.join(ROOT_PATH, \"one_hot_efnB6_multi_label_tta.csv\"))"
   ]
  },
  {
   "cell_type": "code",
   "execution_count": 21,
   "metadata": {},
   "outputs": [
    {
     "data": {
      "text/plain": [
       "(19990, 7)"
      ]
     },
     "execution_count": 21,
     "metadata": {},
     "output_type": "execute_result"
    }
   ],
   "source": [
    "pred = df.loc[:, 'class_1':].values\n",
    "pred.shape"
   ]
  },
  {
   "cell_type": "code",
   "execution_count": 23,
   "metadata": {},
   "outputs": [],
   "source": [
    "image_id = []\n",
    "top_1 = []\n",
    "top_2 = []\n",
    "for i in range(len(pred)):\n",
    "    if max(pred[i]) < 0.5:\n",
    "        continue\n",
    "    max1 = 0\n",
    "    max2 = 0\n",
    "    label1 = 0\n",
    "    label2 = 0\n",
    "    for j in range(len(pred[i])):\n",
    "        if pred[i][j] > max1:\n",
    "            max2 = max1\n",
    "            label2 = label1\n",
    "            max1 = pred[i][j]\n",
    "            label1 = j\n",
    "        elif pred[i][j] > max2:\n",
    "            max2 = pred[i][j]\n",
    "            label2 = j\n",
    "    if max1 - max2 < 0.4:\n",
    "        image_id.append(df['image_id'][i])\n",
    "        top_1.append(label1+1)\n",
    "        top_2.append(label2+1)"
   ]
  },
  {
   "cell_type": "code",
   "execution_count": 24,
   "metadata": {},
   "outputs": [],
   "source": [
    "dict = {'image_id':image_id, 'top_1':top_1, 'top_2':top_2}"
   ]
  },
  {
   "cell_type": "code",
   "execution_count": 25,
   "metadata": {},
   "outputs": [],
   "source": [
    "df = pd.DataFrame(dict)"
   ]
  },
  {
   "cell_type": "code",
   "execution_count": 26,
   "metadata": {},
   "outputs": [],
   "source": [
    "df.to_csv(\"uncertain_image.csv\", index = False)"
   ]
  },
  {
   "cell_type": "code",
   "execution_count": null,
   "metadata": {},
   "outputs": [],
   "source": []
  }
 ],
 "metadata": {
  "kernelspec": {
   "display_name": "Python 3",
   "language": "python",
   "name": "python3"
  },
  "language_info": {
   "codemirror_mode": {
    "name": "ipython",
    "version": 3
   },
   "file_extension": ".py",
   "mimetype": "text/x-python",
   "name": "python",
   "nbconvert_exporter": "python",
   "pygments_lexer": "ipython3",
   "version": "3.7.9"
  }
 },
 "nbformat": 4,
 "nbformat_minor": 4
}
