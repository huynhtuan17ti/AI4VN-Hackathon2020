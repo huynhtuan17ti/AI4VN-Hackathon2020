{
 "cells": [
  {
   "cell_type": "code",
   "execution_count": 7,
   "metadata": {},
   "outputs": [],
   "source": [
    "import cv2\n",
    "import matplotlib.pyplot as plt\n",
    "import os\n",
    "import imutils\n",
    "import skimage\n",
    "import skimage.transform\n",
    "import pandas as pd\n",
    "import numpy as np"
   ]
  },
  {
   "cell_type": "code",
   "execution_count": 2,
   "metadata": {},
   "outputs": [],
   "source": [
    "ROOT_PATH = \"/home/ryan/Machine_Learning/AI4VN\"\n",
    "SAVE_PATH = \"/home/ryan/Machine_Learning/AI4VN/Images\"\n",
    "TEST_PATH = \"/home/ryan/Machine_Learning/AI4VN/test\"\n",
    "IMG_SIZE = 800"
   ]
  },
  {
   "cell_type": "code",
   "execution_count": 3,
   "metadata": {},
   "outputs": [],
   "source": [
    "df = pd.read_csv(os.path.join(ROOT_PATH, \"uncertain_image.csv\"))"
   ]
  },
  {
   "cell_type": "code",
   "execution_count": 18,
   "metadata": {},
   "outputs": [
    {
     "data": {
      "text/plain": [
       "False"
      ]
     },
     "execution_count": 18,
     "metadata": {},
     "output_type": "execute_result"
    }
   ],
   "source": [
    "df['true_class'][0] >= 0"
   ]
  },
  {
   "cell_type": "code",
   "execution_count": 24,
   "metadata": {},
   "outputs": [],
   "source": [
    "for i in range(len(df)):\n",
    "    name_img = df['image_id'][i]\n",
    "    true_label = df['true_class'][i]\n",
    "    if not (true_label >= 0):\n",
    "        true_label = df['top_1'][i]\n",
    "    #if true_label == 0:\n",
    "        #print(os.path.join(SAVE_PATH + '/Label_' + str(int(true_label)) + '/bonus', name_img))\n",
    "    img_array = cv2.imread(os.path.join(TEST_PATH, name_img))\n",
    "    h, w, _ = img_array.shape\n",
    "    cv2.imwrite(os.path.join(SAVE_PATH + '/Label_' + str(int(true_label)) + '/bonus', name_img), img_array)"
   ]
  },
  {
   "cell_type": "code",
   "execution_count": null,
   "metadata": {},
   "outputs": [],
   "source": []
  }
 ],
 "metadata": {
  "kernelspec": {
   "display_name": "Python 3",
   "language": "python",
   "name": "python3"
  },
  "language_info": {
   "codemirror_mode": {
    "name": "ipython",
    "version": 3
   },
   "file_extension": ".py",
   "mimetype": "text/x-python",
   "name": "python",
   "nbconvert_exporter": "python",
   "pygments_lexer": "ipython3",
   "version": "3.7.9"
  }
 },
 "nbformat": 4,
 "nbformat_minor": 4
}
