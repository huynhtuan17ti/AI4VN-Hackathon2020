{
 "cells": [
  {
   "cell_type": "code",
   "execution_count": 1,
   "metadata": {},
   "outputs": [],
   "source": [
    "import cv2\n",
    "import matplotlib.pyplot as plt\n",
    "import os\n",
    "import imutils\n",
    "import skimage\n",
    "import skimage.transform\n",
    "import pandas as pd"
   ]
  },
  {
   "cell_type": "code",
   "execution_count": 2,
   "metadata": {},
   "outputs": [],
   "source": [
    "IMAGE_PATH = \"/home/ryan/Machine_Learning/AI4VN/test_set_A_full\"\n",
    "SAVE_PATH = \"/home/ryan/Machine_Learning/AI4VN/test\"\n",
    "IMG_SIZE = 800"
   ]
  },
  {
   "cell_type": "code",
   "execution_count": 3,
   "metadata": {},
   "outputs": [],
   "source": [
    "def resize_keep_aspect(img, shape):\n",
    "    h, w, _ = img.shape\n",
    "    maxHW = max(h,w)\n",
    "    top = (maxHW-h)//2\n",
    "    bottom = (maxHW-h) - top\n",
    "    left = (maxHW-w)//2\n",
    "    right = (maxHW-w) - left\n",
    "    withBorder = cv2.copyMakeBorder(img, top, bottom, left, right, cv2.BORDER_CONSTANT)\n",
    "    return skimage.transform.resize(withBorder, shape)"
   ]
  },
  {
   "cell_type": "code",
   "execution_count": 10,
   "metadata": {},
   "outputs": [
    {
     "name": "stdout",
     "output_type": "stream",
     "text": [
      "'NoneType' object has no attribute 'shape'\n",
      "Error Img01025.jpg\n",
      "'NoneType' object has no attribute 'shape'\n",
      "Error Img01912.gif\n",
      "'NoneType' object has no attribute 'shape'\n",
      "Error Img05848.jpg\n",
      "'NoneType' object has no attribute 'shape'\n",
      "Error Img06658.jpg\n",
      "'NoneType' object has no attribute 'shape'\n",
      "Error Img07004.gif\n",
      "'NoneType' object has no attribute 'shape'\n",
      "Error Img07718.gif\n",
      "'NoneType' object has no attribute 'shape'\n",
      "Error Img15478.jpg\n",
      "Img15691.bmp\n",
      "'NoneType' object has no attribute 'shape'\n",
      "Error Img16786.gif\n",
      "'NoneType' object has no attribute 'shape'\n",
      "Error Img17698.jpg\n"
     ]
    }
   ],
   "source": [
    "error_image = []\n",
    "image_id = []\n",
    "lst = os.listdir(IMAGE_PATH)\n",
    "for img in sorted(lst):\n",
    "    name_img = img[:-4]\n",
    "    path = os.path.join(IMAGE_PATH, img)\n",
    "    try:\n",
    "        type_img = path[-4:]\n",
    "        if type_img == 'jpeg':\n",
    "            type_img = '.jpeg'\n",
    "        if type_img == '.bmp':\n",
    "            print(img)\n",
    "            error_image.append(img)\n",
    "            continue\n",
    "        img_array = cv2.imread(path)\n",
    "        h, w, _ = img_array.shape\n",
    "        cv2.imwrite(os.path.join(SAVE_PATH , img), img_array)\n",
    "        image_id.append(img)\n",
    "        #image_cnt += 1\n",
    "    except Exception as E:\n",
    "        print(E)\n",
    "        error_image.append(img)\n",
    "        print('Error {}'.format(img))\n",
    "        pass"
   ]
  },
  {
   "cell_type": "code",
   "execution_count": 11,
   "metadata": {},
   "outputs": [
    {
     "data": {
      "text/plain": [
       "['Img01025.jpg',\n",
       " 'Img01912.gif',\n",
       " 'Img05848.jpg',\n",
       " 'Img06658.jpg',\n",
       " 'Img07004.gif',\n",
       " 'Img07718.gif',\n",
       " 'Img15478.jpg',\n",
       " 'Img15691.bmp',\n",
       " 'Img16786.gif',\n",
       " 'Img17698.jpg']"
      ]
     },
     "execution_count": 11,
     "metadata": {},
     "output_type": "execute_result"
    }
   ],
   "source": [
    "error_image"
   ]
  },
  {
   "cell_type": "code",
   "execution_count": 12,
   "metadata": {},
   "outputs": [],
   "source": [
    "dict = {\"error_image\": error_image}\n",
    "df = pd.DataFrame(dict)\n",
    "df.to_csv(\"error.csv\", index = False)"
   ]
  },
  {
   "cell_type": "code",
   "execution_count": 13,
   "metadata": {},
   "outputs": [
    {
     "name": "stdout",
     "output_type": "stream",
     "text": [
      "19990\n"
     ]
    }
   ],
   "source": [
    "print(len(image_id))\n",
    "dict = {\"image_id\": image_id}"
   ]
  },
  {
   "cell_type": "code",
   "execution_count": 14,
   "metadata": {},
   "outputs": [
    {
     "data": {
      "text/html": [
       "<div>\n",
       "<style scoped>\n",
       "    .dataframe tbody tr th:only-of-type {\n",
       "        vertical-align: middle;\n",
       "    }\n",
       "\n",
       "    .dataframe tbody tr th {\n",
       "        vertical-align: top;\n",
       "    }\n",
       "\n",
       "    .dataframe thead th {\n",
       "        text-align: right;\n",
       "    }\n",
       "</style>\n",
       "<table border=\"1\" class=\"dataframe\">\n",
       "  <thead>\n",
       "    <tr style=\"text-align: right;\">\n",
       "      <th></th>\n",
       "      <th>image_id</th>\n",
       "    </tr>\n",
       "  </thead>\n",
       "  <tbody>\n",
       "    <tr>\n",
       "      <th>0</th>\n",
       "      <td>Img00001.JPEG</td>\n",
       "    </tr>\n",
       "    <tr>\n",
       "      <th>1</th>\n",
       "      <td>Img00002.JPEG</td>\n",
       "    </tr>\n",
       "    <tr>\n",
       "      <th>2</th>\n",
       "      <td>Img00003.jpg</td>\n",
       "    </tr>\n",
       "    <tr>\n",
       "      <th>3</th>\n",
       "      <td>Img00004.jpg</td>\n",
       "    </tr>\n",
       "    <tr>\n",
       "      <th>4</th>\n",
       "      <td>Img00005.jpg</td>\n",
       "    </tr>\n",
       "    <tr>\n",
       "      <th>5</th>\n",
       "      <td>Img00006.JPEG</td>\n",
       "    </tr>\n",
       "    <tr>\n",
       "      <th>6</th>\n",
       "      <td>Img00007.jpg</td>\n",
       "    </tr>\n",
       "    <tr>\n",
       "      <th>7</th>\n",
       "      <td>Img00008.jpg</td>\n",
       "    </tr>\n",
       "    <tr>\n",
       "      <th>8</th>\n",
       "      <td>Img00009.jpg</td>\n",
       "    </tr>\n",
       "    <tr>\n",
       "      <th>9</th>\n",
       "      <td>Img00010.jpg</td>\n",
       "    </tr>\n",
       "  </tbody>\n",
       "</table>\n",
       "</div>"
      ],
      "text/plain": [
       "        image_id\n",
       "0  Img00001.JPEG\n",
       "1  Img00002.JPEG\n",
       "2   Img00003.jpg\n",
       "3   Img00004.jpg\n",
       "4   Img00005.jpg\n",
       "5  Img00006.JPEG\n",
       "6   Img00007.jpg\n",
       "7   Img00008.jpg\n",
       "8   Img00009.jpg\n",
       "9   Img00010.jpg"
      ]
     },
     "execution_count": 14,
     "metadata": {},
     "output_type": "execute_result"
    }
   ],
   "source": [
    "df = pd.DataFrame(dict)\n",
    "df.head(10)"
   ]
  },
  {
   "cell_type": "code",
   "execution_count": 15,
   "metadata": {},
   "outputs": [],
   "source": [
    "df.to_csv(\"test.csv\", index = False)"
   ]
  },
  {
   "cell_type": "code",
   "execution_count": null,
   "metadata": {},
   "outputs": [],
   "source": []
  }
 ],
 "metadata": {
  "kernelspec": {
   "display_name": "Python 3",
   "language": "python",
   "name": "python3"
  },
  "language_info": {
   "codemirror_mode": {
    "name": "ipython",
    "version": 3
   },
   "file_extension": ".py",
   "mimetype": "text/x-python",
   "name": "python",
   "nbconvert_exporter": "python",
   "pygments_lexer": "ipython3",
   "version": "3.7.9"
  }
 },
 "nbformat": 4,
 "nbformat_minor": 4
}
